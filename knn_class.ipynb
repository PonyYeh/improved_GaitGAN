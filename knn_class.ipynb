{
 "cells": [
  {
   "cell_type": "markdown",
   "metadata": {},
   "source": [
    "# Baseline_original image KNN"
   ]
  },
  {
   "cell_type": "code",
   "execution_count": null,
   "metadata": {
    "ExecuteTime": {
     "end_time": "2019-05-13T05:48:47.503207Z",
     "start_time": "2019-05-13T05:47:42.096261Z"
    }
   },
   "outputs": [],
   "source": [
    "%load_ext autoreload\n",
    "%autoreload 2\n",
    "from sklearn.neighbors import KNeighborsClassifier\n",
    "import cv2\n",
    "import os\n",
    "import numpy as np\n",
    "Data_Dir = '../GaitRecognition/GEI_CASIA_B/gei/'\n",
    "Model_Name = 'Model_64x64_baselineKNN' \n",
    "angles = ['090', '000', '018', '036', '054', '072',\n",
    "          '108', '126', '144', '162', '180']\n",
    "pid = 63\n",
    "X = []\n",
    "y = []\n",
    "for cond in ['nm-01', 'nm-02', 'nm-03', 'nm-04']:\n",
    "    for p in range(pid, 125):            \n",
    "        # setting3 original gallery all angle\n",
    "        for ang in angles:\n",
    "#             path = Data_Dir +'/%03d/%s/%s/%03d-%s-%s.png' % (p, cond ,ang ,p, cond, ang)    \n",
    "            path = Data_Dir +'/%03d/%s/%03d-%s-%s.png' % (p, cond ,p, cond, ang)    \n",
    "            if not os.path.exists(path):\n",
    "                print(path)\n",
    "                continue\n",
    "            img = cv2.imread(path, 0)\n",
    "            img = cv2.resize(img, (64, 64))\n",
    "            img = img.flatten().astype(np.float32)\n",
    "            X.append(img)\n",
    "            y.append(p-63)\n",
    "\n",
    "nbrs = KNeighborsClassifier(n_neighbors=3, p=1, weights='distance')\n",
    "# nbrs = KNeighborsClassifier(n_neighbors=3)\n",
    "X = np.asarray(X)\n",
    "y = np.asarray(y).astype(np.int32)\n",
    "print('train',X.shape,y.shape)\n",
    "nbrs.fit(X, y)\n",
    "\n",
    "testX = []\n",
    "testy = []\n",
    "pid = 63\n",
    "for cond in ['nm-05', 'nm-06']:\n",
    "    for p in range(pid, 125):         \n",
    "        # setting3 original\n",
    "        for ang in angles:\n",
    "#             path =  Data_Dir +'/%03d/%s/%s/%03d-%s-%s.png' % (p, cond ,ang ,p, cond, ang) \n",
    "            path =  Data_Dir +'/%03d/%s/%03d-%s-%s.png' % (p, cond ,p, cond, ang) \n",
    "            if not os.path.exists(path):\n",
    "                continue\n",
    "            img = cv2.imread(path, 0)\n",
    "            img = cv2.resize(img, (64, 64))\n",
    "            img = img.flatten().astype(np.float32)\n",
    "            testX.append(img)\n",
    "            testy.append(p-63)\n",
    "print(len(testX))\n",
    "testX = np.asarray(testX).astype(np.float32)\n",
    "print(\"nm\",nbrs.score(testX, testy))\n",
    "result = nbrs.score(testX, testy)\n",
    "\n",
    "with open(Model_Name+\"/baseline_knn.txt\" ,'a') as fh:\n",
    "        fh.write('nm ='+str(result)+'\\n')\n",
    "        "
   ]
  },
  {
   "cell_type": "code",
   "execution_count": null,
   "metadata": {
    "ExecuteTime": {
     "end_time": "2019-05-13T05:49:49.828012Z",
     "start_time": "2019-05-13T05:48:51.554122Z"
    }
   },
   "outputs": [],
   "source": [
    "testX = []\n",
    "testy = []\n",
    "pid = 63\n",
    "for cond in ['bg-01', 'bg-02']:\n",
    "    for p in range(pid, 125):         \n",
    "        # setting3 original\n",
    "        for ang in angles:\n",
    "#             path =  Data_Dir'/%03d/%s/%s/%03d-%s-%s.png' % (p, cond ,ang ,p, cond, ang)  \n",
    "            path =  Data_Dir +'/%03d/%s/%03d-%s-%s.png' % (p, cond ,p, cond, ang)\n",
    "            if not os.path.exists(path):\n",
    "#                 print(path)\n",
    "                continue\n",
    "            img = cv2.imread(path, 0)\n",
    "            img = cv2.resize(img, (64, 64))\n",
    "            img = img.flatten().astype(np.float32)\n",
    "            testX.append(img)\n",
    "            testy.append(p-63)\n",
    "print(len(testX))\n",
    "testX = np.asarray(testX).astype(np.float32)\n",
    "print(\"bg\",nbrs.score(testX, testy))\n",
    "result = nbrs.score(testX, testy)\n",
    "\n",
    "with open(Model_Name+\"/baseline_knn.txt\" ,'a') as fh:\n",
    "        fh.write('bg ='+str(result)+'\\n')"
   ]
  },
  {
   "cell_type": "code",
   "execution_count": null,
   "metadata": {
    "ExecuteTime": {
     "end_time": "2019-05-13T05:50:48.168435Z",
     "start_time": "2019-05-13T05:49:49.829769Z"
    }
   },
   "outputs": [],
   "source": [
    "testX = []\n",
    "testy = []\n",
    "pid = 63\n",
    "for cond in ['cl-01', 'cl-02']:\n",
    "    for p in range(pid, 125):         \n",
    "        # setting3 original\n",
    "        for ang in angles:\n",
    "#             path =  Data_Dir'/%03d/%s/%s/%03d-%s-%s.png' % (p, cond ,ang ,p, cond, ang)  \n",
    "            path =  Data_Dir +'/%03d/%s/%03d-%s-%s.png' % (p, cond ,p, cond, ang)\n",
    "            if not os.path.exists(path):\n",
    "#                 print(path)\n",
    "                continue\n",
    "            img = cv2.imread(path, 0)\n",
    "            img = cv2.resize(img, (64, 64))\n",
    "            img = img.flatten().astype(np.float32)\n",
    "            testX.append(img)\n",
    "            testy.append(p-63)\n",
    "print(len(testX))\n",
    "testX = np.asarray(testX).astype(np.float32)\n",
    "print(\"cl\",nbrs.score(testX, testy))\n",
    "result = nbrs.score(testX, testy)\n",
    "\n",
    "with open(Model_Name+\"/baseline_knn.txt\" ,'a') as fh:\n",
    "        fh.write('cl ='+str(result)+'\\n')"
   ]
  },
  {
   "cell_type": "code",
   "execution_count": null,
   "metadata": {
    "ExecuteTime": {
     "end_time": "2019-03-24T13:25:58.140314Z",
     "start_time": "2019-03-24T13:25:58.136776Z"
    }
   },
   "outputs": [],
   "source": [
    "print(y[2000:])\n",
    "unique, counts = np.unique(y, return_counts=True)\n",
    "print(\"y\",dict(zip(unique, counts)))"
   ]
  },
  {
   "cell_type": "markdown",
   "metadata": {},
   "source": [
    "# GaitGAN(NM) - 90 degree from database"
   ]
  },
  {
   "cell_type": "code",
   "execution_count": null,
   "metadata": {
    "ExecuteTime": {
     "end_time": "2019-05-13T03:26:04.899967Z",
     "start_time": "2019-05-13T03:25:12.744138Z"
    }
   },
   "outputs": [],
   "source": [
    "# %load knn_class.py\n",
    "%load_ext autoreload\n",
    "%autoreload 2\n",
    "from sklearn.neighbors import KNeighborsClassifier\n",
    "import cv2\n",
    "import os\n",
    "import numpy as np\n",
    "Data_Dir = '../GaitRecognition/GEI_CASIA_B/gei/'\n",
    "Model_Name = 'Model_64x64_GaitGAN_trial1' \n",
    "angles = ['090', '000', '018', '036', '054', '072',\n",
    "          '108', '126', '144', '162', '180']\n",
    "pid = 63\n",
    "X = []\n",
    "y = []\n",
    "for cond in ['nm-01', 'nm-02', 'nm-03', 'nm-04']:\n",
    "    for p in range(pid, 125):             \n",
    "        # setting : gallery have True 90 and Fake 90\n",
    "        for ang in angles:\n",
    "#             path = Data_Dir+'/%03d/%s/090/%03d-%s-090.png' % (p, cond ,p, cond)\n",
    "            path = Data_Dir+'/%03d/%s/%03d-%s-090.png' % (p, cond ,p, cond)\n",
    "            path1 = './Transform_64x64_allseq/%03d-%s-%s.png' % (p, cond, ang)\n",
    "            \n",
    "            if ang == '090':\n",
    "                if not os.path.exists(path):\n",
    "                    continue\n",
    "                imgNM = cv2.imread(path, 0)\n",
    "                imgNM = cv2.resize(imgNM, (64, 64))\n",
    "            else:\n",
    "                if not os.path.exists(path1):\n",
    "                    continue\n",
    "                imgNM = cv2.imread(path1, 0)\n",
    "            imgNM = imgNM.flatten().astype(np.float32)\n",
    "            X.append(imgNM)\n",
    "            y.append(p-63)\n",
    "        \n",
    "nbrs = KNeighborsClassifier(n_neighbors=3, p=1, weights='distance')\n",
    "# nbrs = KNeighborsClassifier(n_neighbors=3)\n",
    "X = np.asarray(X)\n",
    "y = np.asarray(y).astype(np.int32)\n",
    "print('train',X.shape,y.shape)\n",
    "nbrs.fit(X, y)\n",
    "\n",
    "testX = []\n",
    "testy = []\n",
    "pid = 63\n",
    "for cond in ['nm-05', 'nm-06']:\n",
    "    for p in range(pid, 125):\n",
    "        # setting  : \n",
    "        for ang in angles:\n",
    "#             path = Data_Dir+'/%03d/%s/%s/%03d-%s-%s.png' % (p, cond, ang , p, cond, ang)\n",
    "            path = Data_Dir+'/%03d/%s/%03d-%s-%s.png' % (p, cond , p, cond, ang)\n",
    "            path1 = './Transform_64x64_allseq/%03d-%s-%s.png' % (p, cond, ang)           \n",
    "            if ang == '090':\n",
    "                if not os.path.exists(path):\n",
    "                    continue\n",
    "                imgNM = cv2.imread(path, 0)\n",
    "                imgNM = cv2.resize(imgNM, (64, 64))\n",
    "            else:\n",
    "                if not os.path.exists(path1):\n",
    "                    continue\n",
    "                imgNM = cv2.imread(path1, 0)\n",
    "            imgNM = imgNM.flatten().astype(np.float32)\n",
    "            testX.append(imgNM)\n",
    "            testy.append(p-63)\n",
    "                \n",
    "print(len(testX),testX[0].shape)\n",
    "testX = np.asarray(testX).astype(np.float32)\n",
    "print(nbrs.score(testX, testy))\n",
    "result = nbrs.score(testX, testy)\n",
    "\n",
    "\n",
    "with open(Model_Name+\"/database_knn_27000.txt\" ,'a') as fh:\n",
    "        fh.write('nm ='+str(result)+'\\n')\n",
    "        \n",
    "\n",
    "\n"
   ]
  },
  {
   "cell_type": "markdown",
   "metadata": {},
   "source": [
    "## BG"
   ]
  },
  {
   "cell_type": "code",
   "execution_count": null,
   "metadata": {
    "ExecuteTime": {
     "end_time": "2019-05-13T03:26:58.579171Z",
     "start_time": "2019-05-13T03:26:04.901438Z"
    }
   },
   "outputs": [],
   "source": [
    "testX = []\n",
    "testy = []\n",
    "pid = 63\n",
    "for cond in ['bg-01', 'bg-02']:\n",
    "    for p in range(pid, 125):\n",
    "        # setting 1 : probe True 90, fake 90\n",
    "        for ang in angles:\n",
    "#             path = Data_Dir+'/%03d/%s/%s/%03d-%s-%s.png' % (p, cond, ang , p, cond, ang)\n",
    "            path = Data_Dir+'/%03d/%s/%03d-%s-%s.png' % (p, cond , p, cond, ang)\n",
    "            path1 = './Transform_64x64_allseq/%03d-%s-%s.png' % (p, cond, ang)           \n",
    "            if ang == '090':\n",
    "                if not os.path.exists(path):\n",
    "                    print('90',path)\n",
    "                    continue\n",
    "                imgBG = cv2.imread(path, 0)\n",
    "                imgBG = cv2.resize(imgBG, (64, 64))\n",
    "            else:\n",
    "                if not os.path.exists(path1):\n",
    "                    print('other',path1)\n",
    "                    continue\n",
    "                imgBG = cv2.imread(path1, 0)\n",
    "#             imgBG = cv2.resize(imgBG, (64, 128))\n",
    "            imgBG = imgBG.flatten().astype(np.float32)\n",
    "            testX.append(imgBG)\n",
    "            testy.append(p-63)\n",
    "            \n",
    "                \n",
    "print(len(testX))\n",
    "testX = np.asarray(testX).astype(np.float32)\n",
    "print(nbrs.score(testX, testy))\n",
    "result = nbrs.score(testX, testy)\n",
    "\n",
    "\n",
    "with open(Model_Name+\"/database_knn_25000.txt\" ,'a') as fh:\n",
    "        fh.write('bg ='+str(result)+'\\n')\n"
   ]
  },
  {
   "cell_type": "markdown",
   "metadata": {},
   "source": [
    "## CL"
   ]
  },
  {
   "cell_type": "code",
   "execution_count": null,
   "metadata": {
    "ExecuteTime": {
     "end_time": "2019-05-13T03:27:55.429732Z",
     "start_time": "2019-05-13T03:26:58.580812Z"
    }
   },
   "outputs": [],
   "source": [
    "testX = []\n",
    "testy = []\n",
    "pid = 63\n",
    "for cond in ['cl-01', 'cl-02']:\n",
    "    for p in range(pid, 125):\n",
    "        # setting 1 : probe True 90, fake 90\n",
    "        for ang in angles:\n",
    "#             path = Data_Dir + '/%03d/%s/%s/%03d-%s-%s.png' % (p, cond, ang , p, cond, ang)\n",
    "            path = Data_Dir+'/%03d/%s/%03d-%s-%s.png' % (p, cond , p, cond, ang)\n",
    "            path1 = './Transform_64x64_allseq/%03d-%s-%s.png' % (p, cond, ang)           \n",
    "            if ang == '090':\n",
    "                if not os.path.exists(path):\n",
    "                    continue\n",
    "                imgCL = cv2.imread(path, 0)\n",
    "                imgCL = cv2.resize(imgCL, (64, 64))\n",
    "            else:\n",
    "                if not os.path.exists(path1):\n",
    "                    continue\n",
    "                imgCL = cv2.imread(path1, 0)\n",
    "#             imgCL = cv2.resize(imgCL, (64, 128))\n",
    "            imgCL = imgCL.flatten().astype(np.float32)\n",
    "            testX.append(imgCL)\n",
    "            testy.append(p-63)\n",
    "            \n",
    "                \n",
    "print(len(testX))\n",
    "testX = np.asarray(testX).astype(np.float32)\n",
    "print(nbrs.score(testX, testy))\n",
    "result = nbrs.score(testX, testy)\n",
    "\n",
    "\n",
    "with open(Model_Name+\"/database_knn_25000.txt\" ,'a') as fh:\n",
    "        fh.write('cl ='+str(result)+'\\n')\n"
   ]
  },
  {
   "cell_type": "markdown",
   "metadata": {},
   "source": [
    "# GaitGAN Knn (NM)- generated image"
   ]
  },
  {
   "cell_type": "code",
   "execution_count": 1,
   "metadata": {
    "ExecuteTime": {
     "end_time": "2019-05-22T01:50:03.752187Z",
     "start_time": "2019-05-22T01:49:20.550976Z"
    }
   },
   "outputs": [
    {
     "name": "stdout",
     "output_type": "stream",
     "text": [
      "train (2704, 4096) (2704,)\n",
      "1364 (4096,)\n",
      "0.9728739002932552\n"
     ]
    }
   ],
   "source": [
    "# %load knn_class.py\n",
    "%load_ext autoreload\n",
    "%autoreload 2\n",
    "from sklearn.neighbors import KNeighborsClassifier\n",
    "import cv2\n",
    "import os\n",
    "import numpy as np\n",
    "Data_Dir = '../GaitRecognition/GEI_CASIA_B/gei/'\n",
    "Model_Name = 'Model_64x64_TripletGAN_1' \n",
    "angles = ['090', '000', '018', '036', '054', '072',\n",
    "          '108', '126', '144', '162', '180']\n",
    "pid = 63\n",
    "X = []\n",
    "y = []\n",
    "for cond in ['nm-01', 'nm-02', 'nm-03', 'nm-04']:\n",
    "    for p in range(pid, 125):   \n",
    "        for ang in angles:\n",
    "            path = './Transform_64x64_allseq/%03d-%s-%s.png' % (p, cond, ang)\n",
    "            if not os.path.exists(path):\n",
    "                continue\n",
    "            imgNM = cv2.imread(path, 0)\n",
    "            imgNM = cv2.resize(imgNM, (64, 64))  # for good GEI\n",
    "            imgNM = imgNM.flatten().astype(np.float32)\n",
    "            X.append(imgNM)\n",
    "            y.append(p-63)\n",
    "\n",
    "\n",
    "nbrs = KNeighborsClassifier(n_neighbors=3, p=1, weights='distance')\n",
    "# nbrs = KNeighborsClassifier(n_neighbors=3)\n",
    "X = np.asarray(X)\n",
    "y = np.asarray(y).astype(np.int32)\n",
    "print('train',X.shape,y.shape)\n",
    "nbrs.fit(X, y)\n",
    "\n",
    "testX = []\n",
    "testy = []\n",
    "pid = 63\n",
    "for cond in ['nm-05', 'nm-06']:\n",
    "    for p in range(pid, 125):            \n",
    "        # setting 2:  probe , fake 90  \n",
    "        for ang in angles:\n",
    "            path1 = './Transform_64x64_allseq/%03d-%s-%s.png' % (p, cond, ang)            \n",
    "            if not os.path.exists(path1):\n",
    "                continue\n",
    "            imgNM = cv2.imread(path1, 0)\n",
    "            imgNM = imgNM.flatten().astype(np.float32)\n",
    "            testX.append(imgNM)\n",
    "            testy.append(p-63)\n",
    "                \n",
    "print(len(testX),testX[0].shape)\n",
    "testX = np.asarray(testX).astype(np.float32)\n",
    "print(nbrs.score(testX, testy))\n",
    "result = nbrs.score(testX, testy)\n",
    "\n",
    "\n",
    "with open(Model_Name+\"/generated_knn_400.txt\" ,'a') as fh:\n",
    "        fh.write('nm ='+str(result)+'\\n')\n",
    "        \n",
    "\n",
    "\n"
   ]
  },
  {
   "cell_type": "markdown",
   "metadata": {},
   "source": [
    "## BG"
   ]
  },
  {
   "cell_type": "code",
   "execution_count": 2,
   "metadata": {
    "ExecuteTime": {
     "end_time": "2019-05-22T01:50:42.960019Z",
     "start_time": "2019-05-22T01:50:03.753569Z"
    }
   },
   "outputs": [
    {
     "name": "stdout",
     "output_type": "stream",
     "text": [
      "1362\n",
      "0.7048458149779736\n"
     ]
    }
   ],
   "source": [
    "testX = []\n",
    "testy = []\n",
    "pid = 63\n",
    "for cond in ['bg-01', 'bg-02']:\n",
    "    for p in range(pid, 125):           \n",
    "        # setting 2:  probe , fake 90  \n",
    "        for ang in angles:\n",
    "            path1 = './Transform_64x64_allseq/%03d-%s-%s.png' % (p, cond, ang)            \n",
    "            if not os.path.exists(path1):\n",
    "                continue\n",
    "            imgBG = cv2.imread(path1, 0)\n",
    "#             imgBG = cv2.resize(imgBG, (64, 128))\n",
    "            imgBG = imgBG.flatten().astype(np.float32)\n",
    "            testX.append(imgBG)\n",
    "            testy.append(p-63)\n",
    "                \n",
    "print(len(testX))\n",
    "testX = np.asarray(testX).astype(np.float32)\n",
    "print(nbrs.score(testX, testy))\n",
    "result = nbrs.score(testX, testy)\n",
    "\n",
    "\n",
    "with open(Model_Name+\"/generated_knn_400.txt\" ,'a') as fh:\n",
    "        fh.write('bg ='+str(result)+'\\n')\n"
   ]
  },
  {
   "cell_type": "markdown",
   "metadata": {},
   "source": [
    "## CL"
   ]
  },
  {
   "cell_type": "code",
   "execution_count": 3,
   "metadata": {
    "ExecuteTime": {
     "end_time": "2019-05-22T01:51:22.455009Z",
     "start_time": "2019-05-22T01:50:42.960967Z"
    }
   },
   "outputs": [
    {
     "name": "stdout",
     "output_type": "stream",
     "text": [
      "1364\n",
      "0.35043988269794724\n"
     ]
    }
   ],
   "source": [
    "testX = []\n",
    "testy = []\n",
    "pid = 63\n",
    "for cond in ['cl-01', 'cl-02']:\n",
    "    for p in range(pid, 125):         \n",
    "        # setting 2:  probe , fake 90  \n",
    "        for ang in angles:\n",
    "            path1 = './Transform_64x64_allseq/%03d-%s-%s.png' % (p, cond, ang)            \n",
    "            if not os.path.exists(path1):\n",
    "                continue\n",
    "            imgCL = cv2.imread(path1, 0)\n",
    "#             imgCL = cv2.resize(imgCL, (64, 128))\n",
    "            imgCL = imgCL.flatten().astype(np.float32)\n",
    "            testX.append(imgCL)\n",
    "            testy.append(p-63)\n",
    "                \n",
    "print(len(testX))\n",
    "testX = np.asarray(testX).astype(np.float32)\n",
    "print(nbrs.score(testX, testy))\n",
    "result = nbrs.score(testX, testy)\n",
    "\n",
    "\n",
    "with open(Model_Name+\"/generated_knn_400.txt\" ,'a') as fh:\n",
    "        fh.write('cl ='+str(result)+'\\n')\n"
   ]
  },
  {
   "cell_type": "markdown",
   "metadata": {},
   "source": [
    "# Plot 10 people TSNE (記得先run NM 99人才有10種人)"
   ]
  },
  {
   "cell_type": "code",
   "execution_count": null,
   "metadata": {
    "ExecuteTime": {
     "end_time": "2019-04-14T05:41:05.392447Z",
     "start_time": "2019-04-14T05:41:05.382061Z"
    }
   },
   "outputs": [],
   "source": [
    "unique, counts = np.unique(y, return_counts=True)\n",
    "print(\"y\",dict(zip(unique, counts)))\n",
    "print(testy[:99])"
   ]
  },
  {
   "cell_type": "code",
   "execution_count": null,
   "metadata": {
    "ExecuteTime": {
     "end_time": "2019-04-14T05:41:38.412552Z",
     "start_time": "2019-04-14T05:41:34.785762Z"
    }
   },
   "outputs": [],
   "source": [
    "from matplotlib import pyplot as plt\n",
    "from sklearn.manifold import TSNE\n",
    "import matplotlib\n",
    "%matplotlib inline \n",
    "\n",
    "data_amount = 99\n",
    "label = testy[:data_amount]\n",
    "tsne = TSNE(perplexity=30, n_components=2, init='pca', n_iter=3000)\n",
    "X_embedded = tsne.fit_transform(testX[:data_amount])\n",
    "\n",
    "colors = ['red','green','blue','purple','yellow','black','brown','pink','orange','gray']\n",
    "plt.scatter(X_embedded[:,0], X_embedded[:,1], c=label, cmap=matplotlib.colors.ListedColormap(colors))\n",
    "cb = plt.colorbar()\n",
    "loc = np.arange(0,max(label),max(label)/float(len(colors)))\n",
    "cb.set_ticks(loc)\n",
    "cb.set_ticklabels([a for a in range(10)])\n",
    "plt.savefig(Model_Name+\"/10personsTSNE.jpg\")\n",
    "plt.show()\n"
   ]
  },
  {
   "cell_type": "markdown",
   "metadata": {},
   "source": [
    "# Using Siamese encoder to classify"
   ]
  },
  {
   "cell_type": "code",
   "execution_count": null,
   "metadata": {
    "ExecuteTime": {
     "end_time": "2019-05-07T09:10:32.093242Z",
     "start_time": "2019-05-07T09:09:00.280815Z"
    }
   },
   "outputs": [],
   "source": [
    "%load_ext autoreload\n",
    "%autoreload 2\n",
    "\n",
    "import cv2\n",
    "import os\n",
    "import torch as th\n",
    "from model_siGAN_dropout import NetG, NetD, NetA\n",
    "from data_set import CASIABDatasetGenerate, loadImage\n",
    "import visdom\n",
    "from sklearn.neighbors import KNeighborsClassifier\n",
    "import numpy as np\n",
    "\n",
    "checkpoint = './Model_SiameseGAN_margin5_seed29_dropout_labelF/snapshotModel_SiameseGAN_margin5_seed29_dropout_labelF_27500.t7'\n",
    "Data_Dir = '../GaitRecognition/GEI_CASIA_B/gei/'\n",
    "Model_Name = 'Model_SiameseGAN_margin5_seed29_dropout_labelF'  \n",
    "\n",
    "netg = NetG(nc=1)\n",
    "# netd = NetD(nc=1)\n",
    "device = th.device(\"cuda:1\")\n",
    "netg = netg.to(device)\n",
    "# netd = netd.to(device)\n",
    "fineSize = 64\n",
    "\n",
    "checkpoint = th.load(checkpoint)\n",
    "netg.load_state_dict(checkpoint['netG'])\n",
    "# netd.load_state_dict(checkpoint['netD'])\n",
    "netg.eval()\n",
    "# netd.eval()\n",
    "\n",
    "\n",
    "angles = ['090', '000', '018', '036', '054', '072',\n",
    "          '108', '126', '144', '162', '180']\n",
    "pid = 63\n",
    "X = []\n",
    "y = []\n",
    "for cond in ['nm-01', 'nm-02', 'nm-03', 'nm-04']:\n",
    "    for p in range(pid, 125):        \n",
    "# #         setting1 : gallery only have True 90\n",
    "# #         path =  Data_Dir+'/%03d/%s/090/%03d-%s-090.png' % ( p, cond ,p, cond)   # for good GEI\n",
    "#         path = Data_Dir+'/%03d/%s/%03d-%s-090.png' % ( p, cond ,p, cond)\n",
    "#         if not os.path.exists(path):\n",
    "#             continue\n",
    "#         imgNM = cv2.imread(path, 0)\n",
    "#         imgNM = cv2.resize(imgNM, (64, 64))  # for good GEI\n",
    "#         imgNM = imgNM.flatten().astype(np.float32)\n",
    "#         X.append(imgNM)\n",
    "#         y.append(p-63)\n",
    "        \n",
    "        # setting2 : gallery have True 90 and Fake 90\n",
    "        for ang in angles:\n",
    "            path = Data_Dir+'/%03d/%s/%03d-%s-%s.png' % (p, cond, p, cond, ang)\n",
    "            if not os.path.exists(path):\n",
    "                continue\n",
    "            imgNM = cv2.imread(path, 0)\n",
    "            imgNM = cv2.resize(imgNM, (64, 64))           \n",
    "            X.append(imgNM)\n",
    "            y.append(p-63)\n",
    "        \n",
    "nbrs = KNeighborsClassifier(n_neighbors=3, p=1, weights='distance')\n",
    "X = np.asarray(X) #(2704, 64, 64)\n",
    "X = th.from_numpy(X).unsqueeze(1) # torch.Size([2704, 1, 64, 64])\n",
    "X = X.to(device).to(th.float32)\n",
    "\n",
    "# USE ENCODER FEATURE\n",
    "with th.no_grad():\n",
    "    fake, encoder_X = netg(X)\n",
    "encoder_X = encoder_X.cpu().numpy() #(2704, 768, 4, 4)\n",
    "encoder_X = encoder_X.reshape(-1,768*4*4) #(2704, 12288)\n",
    "y = np.asarray(y).astype(np.int32)\n",
    "nbrs.fit(encoder_X, y)\n",
    "\n",
    "# # USE FAKE IMAGE\n",
    "# with th.no_grad():\n",
    "#     fake, encoder_X = netg(X)\n",
    "# fake = fake.cpu().numpy() #(2704, 1, 64, 64)\n",
    "# fake = fake.reshape(-1,64*64)\n",
    "# y = np.asarray(y).astype(np.int32)\n",
    "# nbrs.fit(fake, y)\n",
    "\n",
    "testX = []\n",
    "testy = []\n",
    "pid = 63\n",
    "for cond in ['nm-05', 'nm-06']:\n",
    "    for p in range(pid, 125):\n",
    "        # setting 1 : probe True 90, fake 90\n",
    "        for ang in angles:\n",
    "            path = Data_Dir+'/%03d/%s/%03d-%s-%s.png' % (p, cond, p, cond, ang)\n",
    "            if not os.path.exists(path):\n",
    "                continue\n",
    "            imgNM = cv2.imread(path, 0)\n",
    "            imgNM = cv2.resize(imgNM, (64, 64))\n",
    "            testX.append(imgNM)\n",
    "            testy.append(p-63)\n",
    "            \n",
    "#         # setting 2:  probe , fake 90  \n",
    "#         for ang in angles:\n",
    "#             path1 = './Transform_64x64_allseq/%03d-%s-%s.png' % (p, cond, ang)            \n",
    "#             if not os.path.exists(path1):\n",
    "#                 continue\n",
    "#             imgNM = cv2.imread(path1, 0)\n",
    "#             imgNM = imgNM.flatten().astype(np.float32)\n",
    "#             testX.append(imgNM)\n",
    "#             testy.append(p-63)\n",
    "                \n",
    "print(len(testX),testX[0].shape)\n",
    "testX = np.asarray(testX).astype(np.float32)\n",
    "testX = th.from_numpy(testX).unsqueeze(1)\n",
    "testX = testX.to(device).to(th.float32)\n",
    "\n",
    "# USE ENCODER FEATURE\n",
    "with th.no_grad():\n",
    "    fake,encoder_testX= netg(testX)\n",
    "encoder_testX = encoder_testX.cpu().numpy()\n",
    "encoder_testX = encoder_testX.reshape(-1,768*4*4)\n",
    "result = nbrs.score(encoder_testX, testy)\n",
    "\n",
    "# # USE FAKE IMAGE\n",
    "# with th.no_grad():\n",
    "#     fake_testX, encoder_testX = netg(testX)\n",
    "# fake_testX = fake_testX.cpu().numpy() #(2704, 1, 64, 64)\n",
    "# fake_testX = fake_testX.reshape(-1,64*64)\n",
    "# result = nbrs.score(fake_testX, testy)\n",
    "\n",
    "print(result)\n",
    "with open(Model_Name+\"/knn_25000.txt\" ,'a') as fh:\n",
    "        fh.write('nm ='+str(result)+'\\n')\n",
    "        \n"
   ]
  },
  {
   "cell_type": "markdown",
   "metadata": {},
   "source": [
    "## BG"
   ]
  },
  {
   "cell_type": "code",
   "execution_count": null,
   "metadata": {
    "ExecuteTime": {
     "end_time": "2019-05-07T11:54:08.913898Z",
     "start_time": "2019-05-07T11:52:44.479472Z"
    }
   },
   "outputs": [],
   "source": [
    "testBG_X = []\n",
    "testBG_y = []\n",
    "pid = 63\n",
    "for cond in ['bg-01', 'bg-02']:\n",
    "    for p in range(pid, 125):\n",
    "        # setting 1 : probe True 90, fake 90\n",
    "        for ang in angles:\n",
    "            path = Data_Dir+'/%03d/%s/%03d-%s-%s.png' % (p, cond, p, cond, ang)\n",
    "           \n",
    "            if not os.path.exists(path):\n",
    "                continue\n",
    "            imgBG = cv2.imread(path, 0)\n",
    "            imgBG = cv2.resize(imgBG, (64, 64))\n",
    "            testBG_X.append(imgBG)\n",
    "            testBG_y.append(p-63)\n",
    "            \n",
    "#         # setting 2:  probe , fake 90  \n",
    "#         for ang in angles:\n",
    "#             path1 = './Transform_64x64_allseq/%03d-%s-%s.png' % (p, cond, ang)            \n",
    "#             if not os.path.exists(path1):\n",
    "#                 continue\n",
    "#             imgBG = cv2.imread(path1, 0)\n",
    "# #             imgBG = cv2.resize(imgBG, (64, 128))\n",
    "#             imgBG = imgBG.flatten().astype(np.float32)\n",
    "#             testBG_X.append(imgBG)\n",
    "#             testBG_y.append(p-63)\n",
    "                \n",
    "print(len(testBG_X),testBG_X[0].shape)\n",
    "testBG_X = np.asarray(testBG_X).astype(np.float32)\n",
    "testBG_X = th.from_numpy(testBG_X).unsqueeze(1)\n",
    "testBG_X = testBG_X.to(device).to(th.float32)\n",
    "\n",
    "# USE ENCODER FEATURE\n",
    "with th.no_grad():\n",
    "    fake,encoder_testBG_X= netg(testBG_X)\n",
    "encoder_testBG_X = encoder_testBG_X.cpu().numpy()\n",
    "encoder_testBG_X = encoder_testBG_X.reshape(-1,768*4*4)\n",
    "result = nbrs.score(encoder_testBG_X, testBG_y)\n",
    "\n",
    "# # USE FAKE IMAGE\n",
    "# with th.no_grad():\n",
    "#     fake_testX, encoder_testX = netg(testBG_X)\n",
    "# fake_testX = fake_testX.cpu().numpy() #(2704, 1, 64, 64)\n",
    "# fake_testX = fake_testX.reshape(-1,64*64)\n",
    "# result = nbrs.score(fake_testX, testBG_y)\n",
    "\n",
    "\n",
    "print(result)\n",
    "with open(Model_Name+\"/knn_25000.txt\" ,'a') as fh:\n",
    "        fh.write('bg ='+str(result)+'\\n')\n"
   ]
  },
  {
   "cell_type": "markdown",
   "metadata": {},
   "source": [
    "## CL"
   ]
  },
  {
   "cell_type": "code",
   "execution_count": null,
   "metadata": {
    "ExecuteTime": {
     "end_time": "2019-05-07T08:26:54.519962Z",
     "start_time": "2019-05-07T08:25:28.220219Z"
    }
   },
   "outputs": [],
   "source": [
    "testCL_X = []\n",
    "testCL_y = []\n",
    "pid = 63\n",
    "for cond in ['cl-01', 'cl-02']:\n",
    "    for p in range(pid, 125):\n",
    "        # setting 1 : probe True 90, fake 90\n",
    "        for ang in angles:\n",
    "            path = Data_Dir+'/%03d/%s/%03d-%s-%s.png' % (p, cond, p, cond, ang)                     \n",
    "            if not os.path.exists(path):\n",
    "                continue\n",
    "            imgCL = cv2.imread(path, 0)\n",
    "            imgCL = cv2.resize(imgCL, (64, 64))\n",
    "            testCL_X.append(imgCL)\n",
    "            testCL_y.append(p-63)\n",
    "            \n",
    "#         # setting 2:  probe , fake 90  \n",
    "#         for ang in angles:\n",
    "#             path1 = './Transform_64x64_allseq/%03d-%s-%s.png' % (p, cond, ang)            \n",
    "#             if not os.path.exists(path1):\n",
    "#                 continue\n",
    "#             imgCL = cv2.imread(path1, 0)\n",
    "# #             imgCL = cv2.resize(imgCL, (64, 128))\n",
    "#             imgCL = imgCL.flatten().astype(np.float32)\n",
    "#             testCL_X.append(imgCL)\n",
    "#             testCL_y.append(p-63)\n",
    "                \n",
    "print(len(testCL_X),testCL_X[0].shape)\n",
    "testCL_X = np.asarray(testCL_X).astype(np.float32)\n",
    "testCL_X = th.from_numpy(testCL_X).unsqueeze(1)\n",
    "testCL_X = testCL_X.to(device).to(th.float32)\n",
    "\n",
    "# USE ENCODER FEATURE\n",
    "with th.no_grad():\n",
    "    fake,encoder_testCL_X= netg(testCL_X)\n",
    "encoder_testCL_X = encoder_testCL_X.cpu().numpy()\n",
    "encoder_testCL_X = encoder_testCL_X.reshape(-1,768*4*4)\n",
    "result = nbrs.score(encoder_testCL_X, testCL_y)\n",
    "\n",
    "# # USE FAKE IMAGE\n",
    "# with th.no_grad():\n",
    "#     fake_testX, encoder_testX = netg(testCL_X)\n",
    "# fake_testX = fake_testX.cpu().numpy() #(2704, 1, 64, 64)\n",
    "# fake_testX = fake_testX.reshape(-1,64*64)\n",
    "# result = nbrs.score(fake_testX, testCL_y)\n",
    "\n",
    "print(result)\n",
    "with open(Model_Name+\"/knn_10000.txt\" ,'a') as fh:\n",
    "        fh.write('cl ='+str(result)+'\\n')"
   ]
  },
  {
   "cell_type": "code",
   "execution_count": null,
   "metadata": {},
   "outputs": [],
   "source": []
  }
 ],
 "metadata": {
  "kernelspec": {
   "display_name": "Python [conda env:py36_ting_cv]",
   "language": "python",
   "name": "conda-env-py36_ting_cv-py"
  },
  "language_info": {
   "codemirror_mode": {
    "name": "ipython",
    "version": 3
   },
   "file_extension": ".py",
   "mimetype": "text/x-python",
   "name": "python",
   "nbconvert_exporter": "python",
   "pygments_lexer": "ipython3",
   "version": "3.6.6"
  },
  "widgets": {
   "state": {},
   "version": "1.1.2"
  }
 },
 "nbformat": 4,
 "nbformat_minor": 2
}
